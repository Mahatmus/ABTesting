{
 "cells": [
  {
   "cell_type": "code",
   "execution_count": 1,
   "metadata": {
    "collapsed": false
   },
   "outputs": [
    {
     "name": "stdout",
     "output_type": "stream",
     "text": [
      "Populating the interactive namespace from numpy and matplotlib\n"
     ]
    }
   ],
   "source": [
    "import pandas as pd\n",
    "import numpy as np\n",
    "from matplotlib import pyplot as plt\n",
    "from scipy import stats\n",
    "import seaborn as sns\n",
    "\n",
    "#import pylab\n",
    "%matplotlib inline\n",
    "%pylab inline"
   ]
  },
  {
   "cell_type": "code",
   "execution_count": 2,
   "metadata": {
    "collapsed": true
   },
   "outputs": [],
   "source": [
    "# Turning off warnings for neatness\n",
    "import warnings\n",
    "warnings.filterwarnings('ignore')"
   ]
  },
  {
   "cell_type": "markdown",
   "metadata": {},
   "source": [
    "## Introduction\n",
    "\n",
    "In this project, I demonstrate a few approaches to testing the differences in results achieved via different treatments. This is done on an example of data collected by Yandex (Russia's biggest search engine). The data represents user activity on \"control\" and \"experimental\" versions of the page.\n",
    "\n",
    "Methods used:\n",
    "- Bootstrapping\n",
    "- Basic T-Test\n",
    "- Mann-Whitney test\n",
    "\n",
    "Notebook demonstrates a few important points:\n",
    " - T-Test should only be used after its assumputions are satisfied.\n",
    " - There are methods which allow us to perform testing for data which is not normally distributed.\n",
    " - The fact that there is a significant difference between the samples is **not** enough to make a correct decision, and researcher should take care to perform additional analysis as required."
   ]
  },
  {
   "cell_type": "code",
   "execution_count": 3,
   "metadata": {
    "collapsed": false
   },
   "outputs": [],
   "source": [
    "# Reading data\n",
    "Raw=pd.read_csv(\"ab_browser_test.csv\")"
   ]
  },
  {
   "cell_type": "markdown",
   "metadata": {},
   "source": [
    "## Data Description & Basic Expolration\n",
    "\n",
    "Data comes from an experiment run by Yandex. The goal of the experiment was to explore if changes to a website affect users actions on the website.\n",
    "\n",
    "Dataset consists of the following variables:\n",
    "- **userID**: user's unique ID\n",
    "- **browser**: browser used by the user\n",
    "- **slot**: control or experimental group membership\n",
    "- **n_clicks**: number of clicks user made in n_queries\n",
    "- **n_queries**: number of queries a user has run\n",
    "- **n_nonclk_queries**: number of queries where the user did not click any results provided\n",
    "\n",
    "Our goal is to identify if changes in website positively affected the users.\n",
    "\n",
    "**We will concentrate our analysis on n_clicks**, however other variables are certainly to be analyzed at a later stage as well.\n",
    "\n",
    "Additionally, we will try identifiying if there are any additional insights in the data."
   ]
  },
  {
   "cell_type": "code",
   "execution_count": 4,
   "metadata": {
    "collapsed": false
   },
   "outputs": [
    {
     "name": "stdout",
     "output_type": "stream",
     "text": [
      "Rows in file = 566134, Columns in file=6\n"
     ]
    },
    {
     "data": {
      "text/html": [
       "<div>\n",
       "<table border=\"1\" class=\"dataframe\">\n",
       "  <thead>\n",
       "    <tr style=\"text-align: right;\">\n",
       "      <th></th>\n",
       "      <th>userID</th>\n",
       "      <th>browser</th>\n",
       "      <th>slot</th>\n",
       "      <th>n_clicks</th>\n",
       "      <th>n_queries</th>\n",
       "      <th>n_nonclk_queries</th>\n",
       "    </tr>\n",
       "  </thead>\n",
       "  <tbody>\n",
       "    <tr>\n",
       "      <th>0</th>\n",
       "      <td>1</td>\n",
       "      <td>Browser #2</td>\n",
       "      <td>exp</td>\n",
       "      <td>23</td>\n",
       "      <td>32</td>\n",
       "      <td>19</td>\n",
       "    </tr>\n",
       "    <tr>\n",
       "      <th>1</th>\n",
       "      <td>3</td>\n",
       "      <td>Browser #4</td>\n",
       "      <td>exp</td>\n",
       "      <td>3</td>\n",
       "      <td>4</td>\n",
       "      <td>2</td>\n",
       "    </tr>\n",
       "    <tr>\n",
       "      <th>2</th>\n",
       "      <td>5</td>\n",
       "      <td>Browser #4</td>\n",
       "      <td>exp</td>\n",
       "      <td>29</td>\n",
       "      <td>35</td>\n",
       "      <td>16</td>\n",
       "    </tr>\n",
       "    <tr>\n",
       "      <th>3</th>\n",
       "      <td>6</td>\n",
       "      <td>Browser #4</td>\n",
       "      <td>control</td>\n",
       "      <td>12</td>\n",
       "      <td>6</td>\n",
       "      <td>0</td>\n",
       "    </tr>\n",
       "    <tr>\n",
       "      <th>4</th>\n",
       "      <td>7</td>\n",
       "      <td>Browser #4</td>\n",
       "      <td>exp</td>\n",
       "      <td>54</td>\n",
       "      <td>68</td>\n",
       "      <td>30</td>\n",
       "    </tr>\n",
       "  </tbody>\n",
       "</table>\n",
       "</div>"
      ],
      "text/plain": [
       "   userID     browser     slot  n_clicks  n_queries  n_nonclk_queries\n",
       "0       1  Browser #2      exp        23         32                19\n",
       "1       3  Browser #4      exp         3          4                 2\n",
       "2       5  Browser #4      exp        29         35                16\n",
       "3       6  Browser #4  control        12          6                 0\n",
       "4       7  Browser #4      exp        54         68                30"
      ]
     },
     "execution_count": 4,
     "metadata": {},
     "output_type": "execute_result"
    }
   ],
   "source": [
    "print(\"Rows in file = %.0f, Columns in file=%.0f\" % Raw.shape)\n",
    "Raw.head()"
   ]
  },
  {
   "cell_type": "code",
   "execution_count": 5,
   "metadata": {
    "collapsed": false
   },
   "outputs": [
    {
     "name": "stdout",
     "output_type": "stream",
     "text": [
      "Mean number of clicks in exp group is 2.687% higher than in control\n"
     ]
    }
   ],
   "source": [
    "# Let's compare the mean number of clicks between the two groups\n",
    "Total_Clicks_Per_Group=Raw.groupby(\"slot\").n_clicks.aggregate(np.mean)\n",
    "\n",
    "print(\"Mean number of clicks in exp group is %.3f%% higher than in control\" %\n",
    "      ((Total_Clicks_Per_Group[\"exp\"]*1.0/Total_Clicks_Per_Group[\"control\"]-1)*100))"
   ]
  },
  {
   "cell_type": "markdown",
   "metadata": {},
   "source": [
    "It seems that in experimental group number of clicks was indeed higher. The difference is not very big - just a couple of percent, but in a digital world it is a lot.\n",
    "\n",
    "If we prove that this difference is significant later, we can state that proposed change is to be recommended for implementation."
   ]
  },
  {
   "cell_type": "code",
   "execution_count": 6,
   "metadata": {
    "collapsed": false
   },
   "outputs": [
    {
     "data": {
      "image/png": "[encoded data removed]",
      "text/plain": [
       "<matplotlib.figure.Figure at 0x4957278>"
      ]
     },
     "metadata": {},
     "output_type": "display_data"
    }
   ],
   "source": [
    "sns.kdeplot(Raw.loc[Raw.slot==\"control\",\"n_clicks\"],label=\"Control Group\")\n",
    "sns.kdeplot(Raw.loc[Raw.slot!=\"control\",\"n_clicks\"],label=\"Experimental Group\")\n",
    "plt.legend();"
   ]
  },
  {
   "cell_type": "markdown",
   "metadata": {},
   "source": [
    "As seen from the chart, number of clicks distribution is far from normal with a very heavy right tail. It looks more like Poisson, which is to be expected, given the count nature of the data."
   ]
  },
  {
   "cell_type": "markdown",
   "metadata": {},
   "source": [
    "## Bootstrapping\n",
    "\n",
    "Bootstrapping will serve two goals:\n",
    "1. Allow us to test for diffence between the distributions, without paying much attention to its normality\n",
    "2. Allow us to test t-test requirements, to see if we can actually use it\n",
    "\n",
    "\n",
    "### T-test requirements\n",
    "\n",
    "T-test has two basic requirements:\n",
    "1. Sample mean is distributed normally, or approximately normally\n",
    "2. Sample variance estimate is distributed as chi-sq with n-1 degrees of freedom\n",
    "\n",
    "We will test both of those, to see if we could use t-test on data"
   ]
  },
  {
   "cell_type": "code",
   "execution_count": 7,
   "metadata": {
    "collapsed": false
   },
   "outputs": [],
   "source": [
    "## Define bootstrapping function, and function to use its results\n",
    "def get_bootstrap_samples(data, n_samples):\n",
    "    data=np.array(data)\n",
    "    indices = np.random.randint(0, len(data), (n_samples, len(data)))\n",
    "    samples = data[indices]\n",
    "    return samples\n",
    "\n",
    "def stat_intervals_from_bootstrap(stat, alpha):\n",
    "    boundaries = np.percentile(stat, [100 * alpha / 2., 100 * (1 - alpha / 2.)])\n",
    "    return boundaries"
   ]
  },
  {
   "cell_type": "code",
   "execution_count": 8,
   "metadata": {
    "collapsed": true
   },
   "outputs": [],
   "source": [
    "# Split the data\n",
    "Exp_Group=Raw[Raw.slot==\"exp\"]\n",
    "Control_Group=Raw[Raw.slot==\"control\"]\n",
    "\n",
    "# Create bootstraps\n",
    "Exp_click_bootstraps=get_bootstrap_samples(Exp_Group.n_clicks,500)\n",
    "Control_click_bootstraps=get_bootstrap_samples(Control_Group.n_clicks,500)\n",
    "\n",
    "# Calculate means by group from bootstrapped samples\n",
    "Exp_means=map(np.mean,Exp_click_bootstraps)\n",
    "Control_means=map(np.mean,Control_click_bootstraps)\n",
    "\n",
    "# Calculate bootstrapped differences in means between two groups\n",
    "delta_means = list(map(lambda x: x[1] - x[0], zip(Exp_means, Control_means)))"
   ]
  },
  {
   "cell_type": "code",
   "execution_count": 9,
   "metadata": {
    "collapsed": false
   },
   "outputs": [
    {
     "name": "stdout",
     "output_type": "stream",
     "text": [
      "Confidence interval for mean difference : [-0.408, -0.202]\n"
     ]
    }
   ],
   "source": [
    "# Output bootstrapped confidence interval for means\n",
    "print(\"Confidence interval for mean difference : [%.3f, %.3f]\" %\n",
    "      tuple(stat_intervals_from_bootstrap(list(delta_means),0.05)))"
   ]
  },
  {
   "cell_type": "markdown",
   "metadata": {},
   "source": [
    "### Bootstrap mean comparison result\n",
    "As we see, there is no 0 in bootstraped interval for mean difference. As such, we can say already that there is a significant difference between the two groups.\n",
    "\n",
    "### T-Test requirements\n",
    "To check T-test requirements, we will use control group, since distributions in the two groups are rather similar. We will get distribution of sample mean and sample variance estimates via bootstrapping, and see if they are distributed according to T-test requirements"
   ]
  },
  {
   "cell_type": "code",
   "execution_count": 15,
   "metadata": {
    "collapsed": false
   },
   "outputs": [
    {
     "data": {
      "image/png": "[encoded data removed]",
      "text/plain": [
       "<matplotlib.figure.Figure at 0xbcbd6d8>"
      ]
     },
     "metadata": {},
     "output_type": "display_data"
    }
   ],
   "source": [
    "## Calculate distribution of means and variances\n",
    "Control_means=list(map(np.mean,Control_click_bootstraps))\n",
    "Control_variance=list(map(np.var,Control_click_bootstraps))\n",
    "\n",
    "\n",
    "## Create QQ plots for both distributions, comparing\n",
    "# means with normal\n",
    "# variances with chisq\n",
    "fig, axes = plt.subplots(nrows=1, ncols=2, figsize=(12,6))\n",
    "\n",
    "\n",
    "Coords,Fit=stats.probplot(Control_means, dist=\"norm\", plot=axes[0],fit=True)\n",
    "axes[0].set_title('Probability Plot for Means R^2 = %.5f' % (Fit[2]**2))\n",
    "\n",
    "\n",
    "Coords,Fit=stats.probplot(Control_variance, dist=\"chi2\", \n",
    "                     sparams=(len(Control_Group.n_clicks)-1), plot=axes[1],fit=True)\n",
    "axes[1].set_title('Probability Plot for Variances R^2 = %.5f' % (Fit[2]**2))\n",
    "\n",
    "plt.show()"
   ]
  },
  {
   "cell_type": "markdown",
   "metadata": {},
   "source": [
    "### T-Test requirements results\n",
    "Based on both visual analysis of QQ plots and R^2 obtained, we can conclude that T-test requirements are satisfied - the distributions are quite close to the ones required."
   ]
  },
  {
   "cell_type": "markdown",
   "metadata": {},
   "source": [
    "## T-Test\n",
    "\n",
    "Since T-Test requirements are satisfied, we can use this for testing"
   ]
  },
  {
   "cell_type": "code",
   "execution_count": 11,
   "metadata": {
    "collapsed": false
   },
   "outputs": [
    {
     "name": "stdout",
     "output_type": "stream",
     "text": [
      "Ttest_indResult(statistic=5.6307180410279596, pvalue=1.795455499781595e-08)\n"
     ]
    }
   ],
   "source": [
    "print(stats.ttest_ind(Exp_Group.n_clicks,Control_Group.n_clicks,equal_var=False))"
   ]
  },
  {
   "cell_type": "markdown",
   "metadata": {},
   "source": [
    "Clearly, T-Test also shows us that difference between in number of click is signficiant between the samples.\n",
    "\n",
    "## Mann-Whitney test\n",
    "Now, let's pretend that T-Test requirements are not satisfied, and the amount of data is a bit too big to run bootstrapping.\n",
    "A good option in that case would be to use Mann-Whitney test. Its requirements are not as strict as T-test's, and it may be more efficient on a wide range of distributions."
   ]
  },
  {
   "cell_type": "code",
   "execution_count": 12,
   "metadata": {
    "collapsed": false
   },
   "outputs": [
    {
     "data": {
      "text/plain": [
       "MannwhitneyuResult(statistic=41184125116.0, pvalue=6.2472358013696291e-75)"
      ]
     },
     "execution_count": 12,
     "metadata": {},
     "output_type": "execute_result"
    }
   ],
   "source": [
    "stats.mannwhitneyu(Exp_Group.n_clicks,Control_Group.n_clicks,alternative=\"two-sided\")"
   ]
  },
  {
   "cell_type": "markdown",
   "metadata": {},
   "source": [
    "Yet another proof that difference between the two samples is significant (not that we needed another one, but its a learning excersize after all).\n",
    "\n",
    "## Depper dive\n",
    "A poorly-minded data scientist would stop at this point, and say that changes are positive and should be implemented straight away.\n",
    "\n",
    "However, we are better than this. We have another variable in the dataset - browser. Perhaps, it is a good idea to check if the differences are consistent by browser."
   ]
  },
  {
   "cell_type": "code",
   "execution_count": 13,
   "metadata": {
    "collapsed": false
   },
   "outputs": [
    {
     "name": "stdout",
     "output_type": "stream",
     "text": [
      "Difference for Browser #2 0.495% higher than in control\n",
      "Difference for Browser #4 0.166% higher than in control\n",
      "Difference for Browser #14 44.336% higher than in control\n",
      "Difference for Browser #17 0.453% higher than in control\n",
      "Difference for Browser #20 -0.798% higher than in control\n",
      "Difference for Browser #22 -1.380% higher than in control\n"
     ]
    }
   ],
   "source": [
    "for browser in Raw.browser.unique():\n",
    "    ThisPiece=Raw[Raw.browser==browser]\n",
    "    \n",
    "    Total_Clicks_Per_Group=ThisPiece.groupby(\"slot\").n_clicks.aggregate(np.mean)\n",
    "\n",
    "    print(\"Difference for %s %.3f%% higher than in control\" %\n",
    "          (browser,((Total_Clicks_Per_Group[\"exp\"]*1.0/Total_Clicks_Per_Group[\"control\"]-1)*100)))"
   ]
  },
  {
   "cell_type": "markdown",
   "metadata": {},
   "source": [
    "Aha! We can see that difference is only really noticeably positive for Browser #14. We have already stated though, that smaller differences may be quite important as well - let's see if they are significant."
   ]
  },
  {
   "cell_type": "code",
   "execution_count": 14,
   "metadata": {
    "collapsed": false
   },
   "outputs": [
    {
     "name": "stdout",
     "output_type": "stream",
     "text": [
      "P-value for Difference for Browser #2 is 0.054##\n",
      "P-value for Difference for Browser #4 is 0.815##\n",
      "P-value for Difference for Browser #14 is 0.000##\n",
      "P-value for Difference for Browser #17 is 0.075##\n",
      "P-value for Difference for Browser #20 is 0.907##\n",
      "P-value for Difference for Browser #22 is 0.515##\n"
     ]
    }
   ],
   "source": [
    "for browser in Raw.browser.unique():\n",
    "    ThisPiece=Raw[Raw.browser==browser]\n",
    "    \n",
    "    ThisPieceExp_Group=ThisPiece[ThisPiece.slot==\"exp\"]\n",
    "    ThisPieceControl_Group=ThisPiece[ThisPiece.slot==\"control\"]\n",
    "    \n",
    "    print(\"P-value for Difference for %s is %.3f##\" % \n",
    "        (browser,\n",
    "         stats.mannwhitneyu(ThisPieceExp_Group.n_clicks,ThisPieceControl_Group.n_clicks,alternative=\"two-sided\")[1]))\n"
   ]
  },
  {
   "cell_type": "markdown",
   "metadata": {},
   "source": [
    "## Results\n",
    "\n",
    "### Practical\n",
    "As expected, difference is only significant for Browser 14. Hence, we can only recommed for the change to be implemented for users on this particular browser.\n",
    "\n",
    "However, from a useability point of view, it might be of course confusing for users to have different experiences on different browsers. If that's the case, we would rather implement the change for all of them. \n",
    "But we can see that for Browser #22 there is a negative effect, which is worrysome. This result is borderline significant. If we would rather implement changes for all browsers, it is recommended to collect more sample, to check that for Browser #22 users we are not going to make the experience worse.\n",
    "\n",
    "### Method demonstration \n",
    "We have demonstrated usage of three different methods for sig testing AB-experiment results. In this particular case, all of the tests we used were appropriate for the data, and yielded similar results.\n",
    "\n",
    "It is important to notice though, that:\n",
    " - Bootstrapping did take some significant amount of time to run - it might be unwise to run in on sample of such size\n",
    " - We have pointed out that before using T-Test, we need to check if its requirements are satisfied. However, we do not always have an option to run bootstrapping. In this case, it would've been better to check data itself for normality, and since our data is not normally distributed Mann-Whitney would've been considered a better option.\n",
    " - Thoughtless acceptance of total-level result without subgroup analysis would've potentially had a very negative result - we would've implemented a change which might negatively affect users of one of the browsers\n",
    "\n"
   ]
  }
 ],
 "metadata": {
  "kernelspec": {
   "display_name": "Python 2",
   "language": "python",
   "name": "python2"
  },
  "language_info": {
   "codemirror_mode": {
    "name": "ipython",
    "version": 2
   },
   "file_extension": ".py",
   "mimetype": "text/x-python",
   "name": "python",
   "nbconvert_exporter": "python",
   "pygments_lexer": "ipython2",
   "version": "2.7.13"
  }
 },
 "nbformat": 4,
 "nbformat_minor": 2
}
